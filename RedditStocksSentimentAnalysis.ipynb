{
  "cells": [
    {
      "cell_type": "markdown",
      "metadata": {
        "id": "view-in-github",
        "colab_type": "text"
      },
      "source": [
        "<a href=\"https://colab.research.google.com/github/durand-kwok/CML-SnowFlake/blob/main/RedditStocksSentimentAnalysis.ipynb\" target=\"_parent\"><img src=\"https://colab.research.google.com/assets/colab-badge.svg\" alt=\"Open In Colab\"/></a>"
      ]
    },
    {
      "cell_type": "markdown",
      "id": "3bb769e0",
      "metadata": {
        "id": "3bb769e0"
      },
      "source": [
        "<a href = \"https://www.pieriantraining.com\"><img src=\"../PT Centered Purple.png\"> </a>\n",
        "\n",
        "<em style=\"text-align:center\">Copyrighted by Pierian Training</em>"
      ]
    },
    {
      "cell_type": "markdown",
      "id": "50ef79d9",
      "metadata": {
        "id": "50ef79d9"
      },
      "source": [
        "## Reddit API:\n",
        "1. Go to https://www.reddit.com/prefs/apps\n",
        "2. Click \"create application\"\n",
        "3. Name: My Sentiment Example\n",
        "4. Choose script\n",
        "5. Leave *description* and *about url* blank\n",
        "6. Add http://www.example.com/unused/redirect/uri to *redirect uri*"
      ]
    },
    {
      "cell_type": "markdown",
      "id": "0c82159c",
      "metadata": {
        "id": "0c82159c"
      },
      "source": [
        "## Imports"
      ]
    },
    {
      "cell_type": "code",
      "source": [
        "!pip install OpenAI"
      ],
      "metadata": {
        "colab": {
          "base_uri": "https://localhost:8080/"
        },
        "id": "hB9L4I-NvTZY",
        "outputId": "6af12df8-c20e-4296-bdd6-d7a55e2d3918"
      },
      "id": "hB9L4I-NvTZY",
      "execution_count": null,
      "outputs": [
        {
          "output_type": "stream",
          "name": "stdout",
          "text": [
            "Collecting OpenAI\n",
            "  Downloading openai-1.25.1-py3-none-any.whl (312 kB)\n",
            "\u001b[?25l     \u001b[90m━━━━━━━━━━━━━━━━━━━━━━━━━━━━━━━━━━━━━━━━\u001b[0m \u001b[32m0.0/312.9 kB\u001b[0m \u001b[31m?\u001b[0m eta \u001b[36m-:--:--\u001b[0m\r\u001b[2K     \u001b[91m━━━━━━━━━━━\u001b[0m\u001b[91m╸\u001b[0m\u001b[90m━━━━━━━━━━━━━━━━━━━━━━━━━━━━\u001b[0m \u001b[32m92.2/312.9 kB\u001b[0m \u001b[31m2.6 MB/s\u001b[0m eta \u001b[36m0:00:01\u001b[0m\r\u001b[2K     \u001b[90m━━━━━━━━━━━━━━━━━━━━━━━━━━━━━━━━━━━━━━━━\u001b[0m \u001b[32m312.9/312.9 kB\u001b[0m \u001b[31m4.6 MB/s\u001b[0m eta \u001b[36m0:00:00\u001b[0m\n",
            "\u001b[?25hRequirement already satisfied: anyio<5,>=3.5.0 in /usr/local/lib/python3.10/dist-packages (from OpenAI) (3.7.1)\n",
            "Requirement already satisfied: distro<2,>=1.7.0 in /usr/lib/python3/dist-packages (from OpenAI) (1.7.0)\n",
            "Collecting httpx<1,>=0.23.0 (from OpenAI)\n",
            "  Downloading httpx-0.27.0-py3-none-any.whl (75 kB)\n",
            "\u001b[2K     \u001b[90m━━━━━━━━━━━━━━━━━━━━━━━━━━━━━━━━━━━━━━━━\u001b[0m \u001b[32m75.6/75.6 kB\u001b[0m \u001b[31m6.2 MB/s\u001b[0m eta \u001b[36m0:00:00\u001b[0m\n",
            "\u001b[?25hRequirement already satisfied: pydantic<3,>=1.9.0 in /usr/local/lib/python3.10/dist-packages (from OpenAI) (2.7.1)\n",
            "Requirement already satisfied: sniffio in /usr/local/lib/python3.10/dist-packages (from OpenAI) (1.3.1)\n",
            "Requirement already satisfied: tqdm>4 in /usr/local/lib/python3.10/dist-packages (from OpenAI) (4.66.2)\n",
            "Requirement already satisfied: typing-extensions<5,>=4.7 in /usr/local/lib/python3.10/dist-packages (from OpenAI) (4.11.0)\n",
            "Requirement already satisfied: idna>=2.8 in /usr/local/lib/python3.10/dist-packages (from anyio<5,>=3.5.0->OpenAI) (3.7)\n",
            "Requirement already satisfied: exceptiongroup in /usr/local/lib/python3.10/dist-packages (from anyio<5,>=3.5.0->OpenAI) (1.2.1)\n",
            "Requirement already satisfied: certifi in /usr/local/lib/python3.10/dist-packages (from httpx<1,>=0.23.0->OpenAI) (2024.2.2)\n",
            "Collecting httpcore==1.* (from httpx<1,>=0.23.0->OpenAI)\n",
            "  Downloading httpcore-1.0.5-py3-none-any.whl (77 kB)\n",
            "\u001b[2K     \u001b[90m━━━━━━━━━━━━━━━━━━━━━━━━━━━━━━━━━━━━━━━━\u001b[0m \u001b[32m77.9/77.9 kB\u001b[0m \u001b[31m6.7 MB/s\u001b[0m eta \u001b[36m0:00:00\u001b[0m\n",
            "\u001b[?25hCollecting h11<0.15,>=0.13 (from httpcore==1.*->httpx<1,>=0.23.0->OpenAI)\n",
            "  Downloading h11-0.14.0-py3-none-any.whl (58 kB)\n",
            "\u001b[2K     \u001b[90m━━━━━━━━━━━━━━━━━━━━━━━━━━━━━━━━━━━━━━━━\u001b[0m \u001b[32m58.3/58.3 kB\u001b[0m \u001b[31m4.9 MB/s\u001b[0m eta \u001b[36m0:00:00\u001b[0m\n",
            "\u001b[?25hRequirement already satisfied: annotated-types>=0.4.0 in /usr/local/lib/python3.10/dist-packages (from pydantic<3,>=1.9.0->OpenAI) (0.6.0)\n",
            "Requirement already satisfied: pydantic-core==2.18.2 in /usr/local/lib/python3.10/dist-packages (from pydantic<3,>=1.9.0->OpenAI) (2.18.2)\n",
            "Installing collected packages: h11, httpcore, httpx, OpenAI\n",
            "Successfully installed OpenAI-1.25.1 h11-0.14.0 httpcore-1.0.5 httpx-0.27.0\n"
          ]
        }
      ]
    },
    {
      "cell_type": "code",
      "source": [
        "!pip install praw"
      ],
      "metadata": {
        "colab": {
          "base_uri": "https://localhost:8080/"
        },
        "id": "08M7IPaEvnRR",
        "outputId": "5a13150f-ac98-41ee-bd18-dba823bdd88b"
      },
      "id": "08M7IPaEvnRR",
      "execution_count": null,
      "outputs": [
        {
          "output_type": "stream",
          "name": "stdout",
          "text": [
            "Collecting praw\n",
            "  Downloading praw-7.7.1-py3-none-any.whl (191 kB)\n",
            "\u001b[2K     \u001b[90m━━━━━━━━━━━━━━━━━━━━━━━━━━━━━━━━━━━━━━━━\u001b[0m \u001b[32m191.0/191.0 kB\u001b[0m \u001b[31m3.0 MB/s\u001b[0m eta \u001b[36m0:00:00\u001b[0m\n",
            "\u001b[?25hCollecting prawcore<3,>=2.1 (from praw)\n",
            "  Downloading prawcore-2.4.0-py3-none-any.whl (17 kB)\n",
            "Collecting update-checker>=0.18 (from praw)\n",
            "  Downloading update_checker-0.18.0-py3-none-any.whl (7.0 kB)\n",
            "Requirement already satisfied: websocket-client>=0.54.0 in /usr/local/lib/python3.10/dist-packages (from praw) (1.8.0)\n",
            "Requirement already satisfied: requests<3.0,>=2.6.0 in /usr/local/lib/python3.10/dist-packages (from prawcore<3,>=2.1->praw) (2.31.0)\n",
            "Requirement already satisfied: charset-normalizer<4,>=2 in /usr/local/lib/python3.10/dist-packages (from requests<3.0,>=2.6.0->prawcore<3,>=2.1->praw) (3.3.2)\n",
            "Requirement already satisfied: idna<4,>=2.5 in /usr/local/lib/python3.10/dist-packages (from requests<3.0,>=2.6.0->prawcore<3,>=2.1->praw) (3.7)\n",
            "Requirement already satisfied: urllib3<3,>=1.21.1 in /usr/local/lib/python3.10/dist-packages (from requests<3.0,>=2.6.0->prawcore<3,>=2.1->praw) (2.0.7)\n",
            "Requirement already satisfied: certifi>=2017.4.17 in /usr/local/lib/python3.10/dist-packages (from requests<3.0,>=2.6.0->prawcore<3,>=2.1->praw) (2024.2.2)\n",
            "Installing collected packages: update-checker, prawcore, praw\n",
            "Successfully installed praw-7.7.1 prawcore-2.4.0 update-checker-0.18.0\n"
          ]
        }
      ]
    },
    {
      "cell_type": "code",
      "execution_count": null,
      "id": "3f8439a1",
      "metadata": {
        "id": "3f8439a1"
      },
      "outputs": [],
      "source": [
        "import praw\n",
        "from openai import OpenAI"
      ]
    },
    {
      "cell_type": "code",
      "execution_count": null,
      "id": "99e65c62",
      "metadata": {
        "id": "99e65c62"
      },
      "outputs": [],
      "source": [
        "reddit = praw.Reddit(client_id=\"3Q2CoOXnu3V4w8iA5HXeCQ\", # the App ID retreived from the reddit application\n",
        "                     client_secret=\"xGVI80oRHVHDyrnEDD74XpdSSy9Q2A\", # the secret retreived from the reddit application\n",
        "                     user_agent=\"sentiment analysis test (by u/YourUserName)\"  # add your reddit name\n",
        "                    )"
      ]
    },
    {
      "cell_type": "markdown",
      "id": "7a3cbf37",
      "metadata": {
        "id": "7a3cbf37"
      },
      "source": [
        "We can now already use our reddit instance to obtain public information from reddit!"
      ]
    },
    {
      "cell_type": "code",
      "execution_count": null,
      "id": "239d2340",
      "metadata": {
        "colab": {
          "base_uri": "https://localhost:8080/"
        },
        "id": "239d2340",
        "outputId": "a57fd25f-dc73-4bec-ce53-dfe3dd982f7e"
      },
      "outputs": [
        {
          "output_type": "stream",
          "name": "stderr",
          "text": [
            "WARNING:praw:It appears that you are using PRAW in an asynchronous environment.\n",
            "It is strongly recommended to use Async PRAW: https://asyncpraw.readthedocs.io.\n",
            "See https://praw.readthedocs.io/en/latest/getting_started/multiple_instances.html#discord-bots-and-asynchronous-environments for more info.\n",
            "\n",
            "WARNING:praw:It appears that you are using PRAW in an asynchronous environment.\n",
            "It is strongly recommended to use Async PRAW: https://asyncpraw.readthedocs.io.\n",
            "See https://praw.readthedocs.io/en/latest/getting_started/multiple_instances.html#discord-bots-and-asynchronous-environments for more info.\n",
            "\n"
          ]
        },
        {
          "output_type": "stream",
          "name": "stdout",
          "text": [
            "Moronic Monday - April 29, 2024 - Your Weekly Questions Thread\n",
            "The Perils of the Fed’s Vast Bond Holdings\n",
            "Can someone help me with an assignment for Corporate Financial Strategy?\n",
            "Why hundreds of U.S. banks may be at risk of failure\n",
            "FDIC says Republic First Bank is closed by Pennsylvania regulators\n",
            "WSJ: Trump Allies Draw Up Plans to Blunt Fed’s Independence\n",
            "BREIT: Blackstone’s Bonfire of the Bagholders\n",
            "China Is Front and Center of Gold’s Record-Breaking Rally - BNN Bloomberg\n",
            "Moronic Monday - April 22, 2024 - Your Weekly Questions Thread\n",
            "The 2% Inflation Target Regime Should Now Be Retired\n"
          ]
        }
      ],
      "source": [
        "for submission in reddit.subreddit(\"finance\").hot(limit=10):\n",
        "    print(submission.title)\n"
      ]
    },
    {
      "cell_type": "markdown",
      "id": "d96e40a7",
      "metadata": {
        "id": "d96e40a7"
      },
      "source": [
        "Of course we want to access hot subreddits like r/wallstreetbets or r/stocks"
      ]
    },
    {
      "cell_type": "code",
      "execution_count": null,
      "id": "e2ba3e2c",
      "metadata": {
        "id": "e2ba3e2c"
      },
      "outputs": [],
      "source": [
        "subreddit_stocks = reddit.subreddit(\"stocks\")"
      ]
    },
    {
      "cell_type": "code",
      "execution_count": null,
      "id": "4978a90b",
      "metadata": {
        "colab": {
          "base_uri": "https://localhost:8080/"
        },
        "id": "4978a90b",
        "outputId": "dc83f799-9d32-492b-b206-2ba7398b0dd3"
      },
      "outputs": [
        {
          "output_type": "stream",
          "name": "stderr",
          "text": [
            "WARNING:praw:It appears that you are using PRAW in an asynchronous environment.\n",
            "It is strongly recommended to use Async PRAW: https://asyncpraw.readthedocs.io.\n",
            "See https://praw.readthedocs.io/en/latest/getting_started/multiple_instances.html#discord-bots-and-asynchronous-environments for more info.\n",
            "\n"
          ]
        },
        {
          "output_type": "stream",
          "name": "stdout",
          "text": [
            "stocks\n",
            "Stocks - Investing and trading for all\n",
            "1507\n"
          ]
        }
      ],
      "source": [
        "print(subreddit_stocks.display_name)\n",
        "print(subreddit_stocks.title)\n",
        "print(subreddit_stocks.accounts_active)"
      ]
    },
    {
      "cell_type": "markdown",
      "id": "9ca002e6",
      "metadata": {
        "id": "9ca002e6"
      },
      "source": [
        "Let's say we want to access the first 5 hot posts and three most upvoted comments:"
      ]
    },
    {
      "cell_type": "code",
      "execution_count": null,
      "id": "8c56d721",
      "metadata": {
        "colab": {
          "base_uri": "https://localhost:8080/"
        },
        "id": "8c56d721",
        "outputId": "2e7a9613-dc5a-4a0e-ef99-fa33fc13fb5f"
      },
      "outputs": [
        {
          "output_type": "stream",
          "name": "stderr",
          "text": [
            "WARNING:praw:It appears that you are using PRAW in an asynchronous environment.\n",
            "It is strongly recommended to use Async PRAW: https://asyncpraw.readthedocs.io.\n",
            "See https://praw.readthedocs.io/en/latest/getting_started/multiple_instances.html#discord-bots-and-asynchronous-environments for more info.\n",
            "\n",
            "WARNING:praw:It appears that you are using PRAW in an asynchronous environment.\n",
            "It is strongly recommended to use Async PRAW: https://asyncpraw.readthedocs.io.\n",
            "See https://praw.readthedocs.io/en/latest/getting_started/multiple_instances.html#discord-bots-and-asynchronous-environments for more info.\n",
            "\n"
          ]
        },
        {
          "output_type": "stream",
          "name": "stdout",
          "text": [
            "Rate My Portfolio - r/Stocks Quarterly Thread March 2024\n"
          ]
        },
        {
          "output_type": "stream",
          "name": "stderr",
          "text": [
            "WARNING:praw:It appears that you are using PRAW in an asynchronous environment.\n",
            "It is strongly recommended to use Async PRAW: https://asyncpraw.readthedocs.io.\n",
            "See https://praw.readthedocs.io/en/latest/getting_started/multiple_instances.html#discord-bots-and-asynchronous-environments for more info.\n",
            "\n"
          ]
        },
        {
          "output_type": "stream",
          "name": "stdout",
          "text": [
            "1-NVDA 20%\n",
            "\n",
            "2-MSFT 14%\n",
            "\n",
            "3-AAPL 10%\n",
            "\n",
            "4-GOOGL 10%\n",
            "\n",
            "5-AMZN 8%\n",
            "\n",
            "6-ACN 7%\n",
            "\n",
            "7-TQQQ 6%\n",
            "\n",
            "8-DHR 6% \n",
            "\n",
            "9-ORLY 5% \n",
            "\n",
            "10-RACE 5% \n",
            "\n",
            "11-AJG 4%\n",
            "\n",
            "12-CTAS 4%\n",
            "\n",
            "13-DECK  4%  \n",
            "\n",
            "14-ANET 4%  ,\n",
            "\n",
            " 15-SKYY 4%\n",
            "\n",
            "buy and hold for all stocks\n",
            "NVDA 14%\n",
            "\n",
            "MSFT 10%\n",
            "\n",
            "UNH 10%\n",
            "\n",
            "BRK 10%\n",
            "\n",
            "O 8%\n",
            "\n",
            "GOOGL 7%\n",
            "\n",
            "BABA 7%\n",
            "\n",
            "NVO 7%\n",
            "\n",
            "AMZN 5%\n",
            "\n",
            "MPW 4%\n",
            "\n",
            "COST 4%\n",
            "\n",
            "OXY 3%\n",
            "\n",
            "ACMR 3%\n",
            "\n",
            "COIN 1%\n",
            "\n",
            "Others 7%\n",
            "/r/Stocks Weekend Discussion Saturday - May 04, 2024\n"
          ]
        },
        {
          "output_type": "stream",
          "name": "stderr",
          "text": [
            "WARNING:praw:It appears that you are using PRAW in an asynchronous environment.\n",
            "It is strongly recommended to use Async PRAW: https://asyncpraw.readthedocs.io.\n",
            "See https://praw.readthedocs.io/en/latest/getting_started/multiple_instances.html#discord-bots-and-asynchronous-environments for more info.\n",
            "\n"
          ]
        },
        {
          "output_type": "stream",
          "name": "stdout",
          "text": [
            "This is such solid advice from Buffet.     \n",
            "\n",
            "https://x.com/SebKrog/status/1786841859857211700\n",
            "\n",
            "One thing that really hit me was when he mentions you really need to love the act of finding and researching. I posted a while ago about the lessons I’ve learned around the way and this one really hits home to me. \n",
            "Buffett looking at a Canadian investment: https://www.cnbc.com/2024/05/04/warren-buffett-says-berkshire-hathaway-is-looking-at-an-investment-in-canada.html\n",
            "\n",
            "Any guesses? Oil, financials, mining, railroads?\n",
            "Buffett says Greg Abel will make Berkshire investing decisions when he's gone \n"
          ]
        },
        {
          "output_type": "stream",
          "name": "stderr",
          "text": [
            "WARNING:praw:It appears that you are using PRAW in an asynchronous environment.\n",
            "It is strongly recommended to use Async PRAW: https://asyncpraw.readthedocs.io.\n",
            "See https://praw.readthedocs.io/en/latest/getting_started/multiple_instances.html#discord-bots-and-asynchronous-environments for more info.\n",
            "\n"
          ]
        },
        {
          "output_type": "stream",
          "name": "stdout",
          "text": [
            "Got to crack a few Greg’s to make a buffet\n",
            "Abel has run most of BRK for years already.\n",
            "Warren Buffett's Berkshire Hathaway cut Apple investment by about 13%\n"
          ]
        },
        {
          "output_type": "stream",
          "name": "stderr",
          "text": [
            "WARNING:praw:It appears that you are using PRAW in an asynchronous environment.\n",
            "It is strongly recommended to use Async PRAW: https://asyncpraw.readthedocs.io.\n",
            "See https://praw.readthedocs.io/en/latest/getting_started/multiple_instances.html#discord-bots-and-asynchronous-environments for more info.\n",
            "\n"
          ]
        },
        {
          "output_type": "stream",
          "name": "stdout",
          "text": [
            "must be a block trade with Apple, under the buy back process\n",
            "Oh I see Warren Buffett getting ready for retirement.\n",
            "Hims and Hers stock plummets 8% after CEO says he is ‘eager’ to hire anti-Israel protesters\n",
            "Politics aside, 8% is a plummet now? Pfft\n",
            "stock is up 80% in the last 6 months, even after this \"plummet\"\n"
          ]
        }
      ],
      "source": [
        "for post in subreddit_stocks.hot(limit=5):\n",
        "    print(post.title)\n",
        "    submission = reddit.submission(post.id)\n",
        "    c = 0\n",
        "    for comment in submission.comments:\n",
        "        comment = comment.body\n",
        "        if not comment == \"[deleted]\":\n",
        "            print(comment)\n",
        "            c+=1\n",
        "        if c == 2:\n",
        "            break"
      ]
    },
    {
      "cell_type": "markdown",
      "id": "c31f370d",
      "metadata": {
        "id": "c31f370d"
      },
      "source": [
        "We can now use GPT to extract stock tickers from all of these posts and tell us whether the sentiment for the mentioned assets is positive, neutral or negative:"
      ]
    },
    {
      "cell_type": "markdown",
      "id": "e5480358",
      "metadata": {
        "id": "e5480358"
      },
      "source": [
        "## OpenAI API\n",
        "\n",
        "Remember to use the notebook as shown, you must set your OpenAI API Key as an environment variable. Obviously, there are many ways you could provide your API Key to the Python code, input() or even hard-coded, but those are typically not recommended for safety reasons. Having it as an environment variable let's the key live on the computer, but not actually be present in the code.\n"
      ]
    },
    {
      "cell_type": "code",
      "source": [
        "# Import Colab Secrets userdata module\n",
        "from google.colab import userdata\n",
        "\n",
        "# Set OpenAI API key\n",
        "import os\n",
        "os.environ[\"OPENAI_API_KEY\"] = userdata.get('OPENAI_API_KEY')"
      ],
      "metadata": {
        "id": "kG-_KNxYuXot"
      },
      "id": "kG-_KNxYuXot",
      "execution_count": null,
      "outputs": []
    },
    {
      "cell_type": "code",
      "source": [
        "openai_api_key = os.environ.get('OPENAI_API_KEY') or 'OPENAI_API_KEY'"
      ],
      "metadata": {
        "id": "sxY6cl9IuXMD"
      },
      "id": "sxY6cl9IuXMD",
      "execution_count": null,
      "outputs": []
    },
    {
      "cell_type": "code",
      "execution_count": null,
      "id": "149550f5",
      "metadata": {
        "id": "149550f5"
      },
      "outputs": [],
      "source": [
        "client = OpenAI()"
      ]
    },
    {
      "cell_type": "markdown",
      "id": "27abbc84",
      "metadata": {
        "id": "27abbc84"
      },
      "source": [
        "## Prompt Generation\n",
        "First, we need to create a dictionary containing the title and top three comments"
      ]
    },
    {
      "cell_type": "code",
      "execution_count": null,
      "id": "abc5a92d",
      "metadata": {
        "colab": {
          "base_uri": "https://localhost:8080/",
          "height": 187
        },
        "id": "abc5a92d",
        "outputId": "30cf7f7a-004f-4b69-c980-6e08869e8602"
      },
      "outputs": [
        {
          "output_type": "execute_result",
          "data": {
            "text/plain": [
              "<bound method BaseListingMixin.hot of Subreddit(display_name='stocks')>"
            ],
            "text/html": [
              "<div style=\"max-width:800px; border: 1px solid var(--colab-border-color);\"><style>\n",
              "      pre.function-repr-contents {\n",
              "        overflow-x: auto;\n",
              "        padding: 8px 12px;\n",
              "        max-height: 500px;\n",
              "      }\n",
              "\n",
              "      pre.function-repr-contents.function-repr-contents-collapsed {\n",
              "        cursor: pointer;\n",
              "        max-height: 100px;\n",
              "      }\n",
              "    </style>\n",
              "    <pre style=\"white-space: initial; background:\n",
              "         var(--colab-secondary-surface-color); padding: 8px 12px;\n",
              "         border-bottom: 1px solid var(--colab-border-color);\"><b>praw.models.listing.mixins.base.BaseListingMixin.hot</b><br/>def hot(**generator_kwargs: Union[str, int, Dict[str, str]]) -&gt; Iterator[Any]</pre><pre class=\"function-repr-contents function-repr-contents-collapsed\" style=\"\"><a class=\"filepath\" style=\"display:none\" href=\"#\">/usr/local/lib/python3.10/dist-packages/praw/models/listing/mixins/base.py</a>Return a :class:`.ListingGenerator` for hot items.\n",
              "\n",
              "Additional keyword arguments are passed in the initialization of\n",
              ":class:`.ListingGenerator`.\n",
              "\n",
              "This method can be used like:\n",
              "\n",
              ".. code-block:: python\n",
              "\n",
              "    reddit.domain(&quot;imgur.com&quot;).hot()\n",
              "    reddit.multireddit(redditor=&quot;samuraisam&quot;, name=&quot;programming&quot;).hot()\n",
              "    reddit.redditor(&quot;spez&quot;).hot()\n",
              "    reddit.redditor(&quot;spez&quot;).comments.hot()\n",
              "    reddit.redditor(&quot;spez&quot;).submissions.hot()\n",
              "    reddit.subreddit(&quot;all&quot;).hot()</pre>\n",
              "      <script>\n",
              "      if (google.colab.kernel.accessAllowed && google.colab.files && google.colab.files.view) {\n",
              "        for (const element of document.querySelectorAll('.filepath')) {\n",
              "          element.style.display = 'block'\n",
              "          element.onclick = (event) => {\n",
              "            event.preventDefault();\n",
              "            event.stopPropagation();\n",
              "            google.colab.files.view(element.textContent, 73);\n",
              "          };\n",
              "        }\n",
              "      }\n",
              "      for (const element of document.querySelectorAll('.function-repr-contents')) {\n",
              "        element.onclick = (event) => {\n",
              "          event.preventDefault();\n",
              "          event.stopPropagation();\n",
              "          element.classList.toggle('function-repr-contents-collapsed');\n",
              "        };\n",
              "      }\n",
              "      </script>\n",
              "      </div>"
            ]
          },
          "metadata": {},
          "execution_count": 14
        }
      ],
      "source": [
        "getattr(subreddit_stocks, \"hot\")"
      ]
    },
    {
      "cell_type": "code",
      "execution_count": null,
      "id": "9424948d",
      "metadata": {
        "id": "9424948d"
      },
      "outputs": [],
      "source": [
        "def get_titles_and_comments(subreddit=\"stocks\", sub_instance=\"hot\", limit=10, num_comments=2, skip_first=2):\n",
        "    subreddit = reddit.subreddit(subreddit)\n",
        "    titles_and_comments = {}\n",
        "    for c, post in enumerate(getattr(subreddit, sub_instance)(limit=limit)):\n",
        "\n",
        "        if c < skip_first:\n",
        "            continue\n",
        "\n",
        "        c+=(1-skip_first)\n",
        "\n",
        "        titles_and_comments[c] = \"\"\n",
        "\n",
        "        submission = reddit.submission(post.id)\n",
        "        title = post.title\n",
        "\n",
        "        titles_and_comments[c] += \"Title: \" + title  + \"\\n\\n\"\n",
        "        titles_and_comments[c] += \"Comments: \\n\\n\"\n",
        "\n",
        "        comment_counter = 0\n",
        "        for comment in submission.comments:\n",
        "            comment = comment.body\n",
        "            if not comment == \"[deleted]\":\n",
        "                titles_and_comments[c] += comment + \"\\n\"\n",
        "                comment_counter+=1\n",
        "            if comment_counter == num_comments:\n",
        "                break\n",
        "\n",
        "    return titles_and_comments"
      ]
    },
    {
      "cell_type": "code",
      "execution_count": null,
      "id": "bdba4923",
      "metadata": {
        "colab": {
          "base_uri": "https://localhost:8080/"
        },
        "id": "bdba4923",
        "outputId": "0136988f-e6e5-4b5c-d82d-d39a1e1fec2e"
      },
      "outputs": [
        {
          "output_type": "stream",
          "name": "stderr",
          "text": [
            "WARNING:praw:It appears that you are using PRAW in an asynchronous environment.\n",
            "It is strongly recommended to use Async PRAW: https://asyncpraw.readthedocs.io.\n",
            "See https://praw.readthedocs.io/en/latest/getting_started/multiple_instances.html#discord-bots-and-asynchronous-environments for more info.\n",
            "\n",
            "WARNING:praw:It appears that you are using PRAW in an asynchronous environment.\n",
            "It is strongly recommended to use Async PRAW: https://asyncpraw.readthedocs.io.\n",
            "See https://praw.readthedocs.io/en/latest/getting_started/multiple_instances.html#discord-bots-and-asynchronous-environments for more info.\n",
            "\n",
            "WARNING:praw:It appears that you are using PRAW in an asynchronous environment.\n",
            "It is strongly recommended to use Async PRAW: https://asyncpraw.readthedocs.io.\n",
            "See https://praw.readthedocs.io/en/latest/getting_started/multiple_instances.html#discord-bots-and-asynchronous-environments for more info.\n",
            "\n",
            "WARNING:praw:It appears that you are using PRAW in an asynchronous environment.\n",
            "It is strongly recommended to use Async PRAW: https://asyncpraw.readthedocs.io.\n",
            "See https://praw.readthedocs.io/en/latest/getting_started/multiple_instances.html#discord-bots-and-asynchronous-environments for more info.\n",
            "\n",
            "WARNING:praw:It appears that you are using PRAW in an asynchronous environment.\n",
            "It is strongly recommended to use Async PRAW: https://asyncpraw.readthedocs.io.\n",
            "See https://praw.readthedocs.io/en/latest/getting_started/multiple_instances.html#discord-bots-and-asynchronous-environments for more info.\n",
            "\n",
            "WARNING:praw:It appears that you are using PRAW in an asynchronous environment.\n",
            "It is strongly recommended to use Async PRAW: https://asyncpraw.readthedocs.io.\n",
            "See https://praw.readthedocs.io/en/latest/getting_started/multiple_instances.html#discord-bots-and-asynchronous-environments for more info.\n",
            "\n",
            "WARNING:praw:It appears that you are using PRAW in an asynchronous environment.\n",
            "It is strongly recommended to use Async PRAW: https://asyncpraw.readthedocs.io.\n",
            "See https://praw.readthedocs.io/en/latest/getting_started/multiple_instances.html#discord-bots-and-asynchronous-environments for more info.\n",
            "\n",
            "WARNING:praw:It appears that you are using PRAW in an asynchronous environment.\n",
            "It is strongly recommended to use Async PRAW: https://asyncpraw.readthedocs.io.\n",
            "See https://praw.readthedocs.io/en/latest/getting_started/multiple_instances.html#discord-bots-and-asynchronous-environments for more info.\n",
            "\n",
            "WARNING:praw:It appears that you are using PRAW in an asynchronous environment.\n",
            "It is strongly recommended to use Async PRAW: https://asyncpraw.readthedocs.io.\n",
            "See https://praw.readthedocs.io/en/latest/getting_started/multiple_instances.html#discord-bots-and-asynchronous-environments for more info.\n",
            "\n",
            "WARNING:praw:It appears that you are using PRAW in an asynchronous environment.\n",
            "It is strongly recommended to use Async PRAW: https://asyncpraw.readthedocs.io.\n",
            "See https://praw.readthedocs.io/en/latest/getting_started/multiple_instances.html#discord-bots-and-asynchronous-environments for more info.\n",
            "\n",
            "WARNING:praw:It appears that you are using PRAW in an asynchronous environment.\n",
            "It is strongly recommended to use Async PRAW: https://asyncpraw.readthedocs.io.\n",
            "See https://praw.readthedocs.io/en/latest/getting_started/multiple_instances.html#discord-bots-and-asynchronous-environments for more info.\n",
            "\n"
          ]
        }
      ],
      "source": [
        "titles_and_comments = get_titles_and_comments(subreddit=\"stocks\", limit=12)"
      ]
    },
    {
      "cell_type": "code",
      "execution_count": null,
      "id": "0aa5842d",
      "metadata": {
        "colab": {
          "base_uri": "https://localhost:8080/"
        },
        "id": "0aa5842d",
        "outputId": "8e4bd65f-c5c5-4951-fd08-458f8cb41d55"
      },
      "outputs": [
        {
          "output_type": "stream",
          "name": "stdout",
          "text": [
            "Title: Warren Buffett's Berkshire Hathaway cut Apple investment by about 13%\n",
            "\n",
            "Comments: \n",
            "\n",
            "must be a block trade with Apple, under the buy back process\n",
            "Oh I see Warren Buffett getting ready for retirement.\n",
            "\n"
          ]
        }
      ],
      "source": [
        "print(titles_and_comments[2])"
      ]
    },
    {
      "cell_type": "code",
      "execution_count": null,
      "id": "dbf1395f",
      "metadata": {
        "id": "dbf1395f"
      },
      "outputs": [],
      "source": [
        "def create_system_prompt():\n",
        "    return \"You are a helpful assistant for sentiment analysis.\"\n",
        "\n",
        "def create_prompt(title_and_comments):\n",
        "\n",
        "    task = \"Return the stock ticker or company in the following heading and comments and classify the sentiment. If no ticker or company is mentioned write 'No company mentioned':\\n\\n\"\n",
        "    return task + title_and_comments\n"
      ]
    },
    {
      "cell_type": "code",
      "execution_count": null,
      "id": "1c761a05",
      "metadata": {
        "id": "1c761a05"
      },
      "outputs": [],
      "source": [
        "system_prompt = create_system_prompt()\n",
        "prompt = create_prompt(titles_and_comments[1])"
      ]
    },
    {
      "cell_type": "code",
      "execution_count": null,
      "id": "85fcd8b3",
      "metadata": {
        "colab": {
          "base_uri": "https://localhost:8080/"
        },
        "id": "85fcd8b3",
        "outputId": "08e950d8-1956-4cd0-c2d5-49dfc5bb924f"
      },
      "outputs": [
        {
          "output_type": "stream",
          "name": "stdout",
          "text": [
            "Return the stock ticker or company in the following heading and comments and classify the sentiment. If no ticker or company is mentioned write 'No company mentioned':\n",
            "\n",
            "Title: Buffett says Greg Abel will make Berkshire investing decisions when he's gone \n",
            "\n",
            "Comments: \n",
            "\n",
            "Got to crack a few Greg’s to make a buffet\n",
            "Abel has run most of BRK for years already.\n",
            "\n"
          ]
        }
      ],
      "source": [
        "print(prompt)"
      ]
    },
    {
      "cell_type": "code",
      "execution_count": null,
      "id": "84b80bdd",
      "metadata": {
        "scrolled": false,
        "colab": {
          "base_uri": "https://localhost:8080/"
        },
        "id": "84b80bdd",
        "outputId": "83a0960c-d104-44d0-9aed-c964048473e2"
      },
      "outputs": [
        {
          "output_type": "stream",
          "name": "stdout",
          "text": [
            "Title: Buffett says Greg Abel will make Berkshire investing decisions when he's gone \n",
            "\n",
            "Comments: \n",
            "\n",
            "Got to crack a few Greg’s to make a buffet\n",
            "Abel has run most of BRK for years already.\n",
            "\n",
            "Sentiment: Company: Berkshire Hathaway (BRK)\n",
            "\n",
            "Sentiment: Neutral\n",
            "------------------------------\n",
            "Title: Warren Buffett's Berkshire Hathaway cut Apple investment by about 13%\n",
            "\n",
            "Comments: \n",
            "\n",
            "must be a block trade with Apple, under the buy back process\n",
            "Oh I see Warren Buffett getting ready for retirement.\n",
            "\n",
            "Sentiment: Company: Apple (AAPL)\n",
            "\n",
            "Sentiment: Neutral\n",
            "------------------------------\n",
            "Title: Hims and Hers stock plummets 8% after CEO says he is ‘eager’ to hire anti-Israel protesters\n",
            "\n",
            "Comments: \n",
            "\n",
            "Politics aside, 8% is a plummet now? Pfft\n",
            "stock is up 80% in the last 6 months, even after this \"plummet\"\n",
            "\n",
            "Sentiment: Company: Hims and Hers (Ticker: HIMS)\n",
            "\n",
            "Sentiment: Negative\n",
            "------------------------------\n",
            "Title: Why is the S&P 500 “overvalued?”\n",
            "\n",
            "Comments: \n",
            "\n",
            "From P/E perceptive things are a little expensive, but not egregiously so. \n",
            "\n",
            "For educated bears, the biggest concern is where future growth is going to come from given likelihood of higher rates for longer, less government stimulus (debt is too high), and declining global population.\n",
            "\n",
            "The bulls think Americans exceptionalism and AI will fix things mid to long term.\n",
            "[This was a really nice read in my opinion from AQR](https://www.aqr.com/Insights/Research/White-Papers/Driving-with-the-Rear-View-Mirror) on what assumptions are required to repeat the last decade's performance given the current valuation. Skip to pages 8-9 if you are short on time.\n",
            "\n",
            "The gist is that (real) returns come from the following sources: dividends, valuation changes, and real earnings growth. To repeat last decade's returns, you either have to see the US demonstrate *exceptional* earnings growth (say 6-8% *real* earnings growth) AND still see major multiple expansion. Is this possible? Sure. Is it likely? \n",
            "\n",
            "> If we are even more optimistic and assume\n",
            "6% real earnings growth, which is roughly\n",
            "the best ever outcome over a 10-year period\n",
            "during normal, non-recessionary times, the\n",
            "market would still need to trade at all-time-\n",
            "high valuations (CAPE of 51) to match the last\n",
            "decade’s excess-of-cash performance.\n",
            "\n",
            "The TL;DR:\n",
            "\n",
            "> Here is the rub: to forecast a repeat\n",
            "performance from equity markets, you\n",
            "must forecast earnings growth at levels\n",
            "unprecedented in a non-recession economy\n",
            "and the market to trade at its richest level ever\n",
            "at the end of the decade. While it’s impossible\n",
            "to rule out this scenario, it is an implausible\n",
            "baseline assumption.\n",
            "\n",
            "Yes, revenue/profits and the like will continue to rise. The question is how much is already priced in and how that will impact your future returns. There are some tailwinds from the past decade like relatively low corporate taxes / tax cuts, abnormally cheap energy (due to the shale revolution), QE reducing interest expenses, etc. that may not always be in play. You need everything to go right to keep on churning out amazing returns from the S&P 500. By contrast, if you start with a very low multiple, you just need  some things to go right.\n",
            "\n",
            "Sentiment: Title: Why is the S&P 500 “overvalued?”\n",
            "\n",
            "Comments: \n",
            "\n",
            "No company mentioned\n",
            "\n",
            "Sentiment: Neutral\n",
            "------------------------------\n",
            "Title: Why Rivian Shares Popped on Friday\n",
            "\n",
            "Comments: \n",
            "\n",
            "omg 6%!!!!! great news!!!\n",
            "o wait -50% YTD\n",
            "Important to note, the $827m from Illinois is in tax cuts, not a capital infusion. \n",
            "\n",
            "The next ER will likely share the number of R2 reservations in an attempt to build momentum and also provide an update on the April factory shutdown. Deliveries and production numbers for the period will go through March, so the impact of the retrofit plant really won’t be felt in the numbers right now. Guidance, projections, and sentiment will likely be the focus this go around after the awful last report. I also expect a lot of flouncy compliments about the new COO who came from Volvo. \n",
            "\n",
            "The real move, in either direction, is likely to be after the August ER. At that point, the April shutdown will be factored into the report and RJ will have to answer questions about if efficiencies have improved, update EOY guidance now that the production disruption is behind them, and provide further information about profitability and losses per vehicle. He won't be able to buy any more time because that report will include the period ending in June; investors can start making determinations about if leadership has this all going in the right direction or not. \n",
            "\n",
            "The cash on hand will be heavily scrutinized as well during both calls. There are real questions if the company has enough capital to make it to R2 - another capital raise is likely, and I doubt that will go over super great in the market.\n",
            "\n",
            "Sentiment: Title: Why Rivian Shares Popped on Friday\n",
            "\n",
            "Comments: \n",
            "\n",
            "No company mentioned\n",
            "------------------------------\n",
            "Title: Iovance Break through Cancer approval \n",
            "\n",
            "Comments: \n",
            "\n",
            "You had me at Wayne Rothbaum. I don’t know who he is but his name sounds like he would be good with money.\n",
            "The stock jumped $2 on Friday. During the last trading days, it was ~ $11.50 ish.  \n",
            "\n",
            "Why?\n",
            "\n",
            "Sentiment: Title: Iovance Break through Cancer approval\n",
            "\n",
            "Comments: \n",
            "\n",
            "Ticker/Company: Iovance (IOVA)\n",
            "\n",
            "Sentiment: Positive\n",
            "------------------------------\n",
            "Title: Question about Price to Earnings Ratio\n",
            "\n",
            "Comments: \n",
            "\n",
            "Welcome to r/stocks!\n",
            "\n",
            "For beginner advice, brokerage info, book recommendations, even advanced topics and more, please read our [Wiki here.](https://www.reddit.com/r/stocks/wiki/index)\n",
            "\n",
            "If you're wondering **why a stock moved** a certain way, check out [Finviz](https://finviz.com/quote.ashx?t=spy) which aggregates the most news for almost every stock, but also see [Reuters](https://www.reuters.com/), and even [Yahoo Finance](https://finance.yahoo.com/).\n",
            "\n",
            "Please direct all simple questions towards the stickied Daily Discussion and Quarterly Rate My Portfolio threads (sort by Hot, they're at the top).\n",
            "\n",
            "Also include *some* [due diligence](https://www.investopedia.com/terms/d/duediligence.asp) to this post or it may be removed if it's low effort.\n",
            "\n",
            "*I am a bot, and this action was performed automatically. Please [contact the moderators of this subreddit](/message/compose/?to=/r/stocks) if you have any questions or concerns.*\n",
            "> wouldn't it make sense to find a stock that has the lowest Forward P/E ratio possible while being above 0 inorder to capitalize on the upward potential in a stock?\n",
            "\n",
            "Yes. The trouble is, people are willing to pay more for companies with upward potential, which leads to a higher P/E ratio. A low forward P/E ratio is a signal investors don’t expect the company to grow a lot.\n",
            "\n",
            "Sentiment: **Title:** Question about Price to Earnings Ratio\n",
            "\n",
            "**Comments:** \n",
            "\n",
            "No company mentioned. \n",
            "\n",
            "**Sentiment:** Neutral\n",
            "------------------------------\n",
            "Title: Trump Media auditor charged by SEC with ‘massive fraud,’ permanently barred from public company audits.\n",
            "\n",
            "Comments: \n",
            "\n",
            "Hi, you're on r/Stocks, please make sure your post is related to stocks or the stockmarket or it will most likely get removed as being off-topic/political; feel free to edit it now and be more specific.\n",
            "\n",
            "**To everyone commenting:**  Please focus on how this affects the stock market or specific stocks or it will be removed as being off-topic/political.\n",
            "\n",
            "If you're interested in just politics, see our wiki on [\"relevant subreddits\"](https://www.reddit.com/r/stocks/wiki/index) and post to those Reddit communities instead without linking back here, thanks!\n",
            "\n",
            "*I am a bot, and this action was performed automatically. Please [contact the moderators of this subreddit](/message/compose/?to=/r/stocks) if you have any questions or concerns.*\n",
            "Honestly don't know why we still allow SPAC IPOs. \n",
            "\n",
            "It's not just DJT. There are tons of shady business that goes down that route.\n",
            "\n",
            "Sentiment: Title: Trump Media auditor charged by SEC with ‘massive fraud,’ permanently barred from public company audits.\n",
            "\n",
            "Comments: \n",
            "\n",
            "No company mentioned\n",
            "\n",
            "Sentiment: Negative\n",
            "------------------------------\n",
            "Title: Examples of Companies that Succeed After Reverse-Split?\n",
            "\n",
            "Comments: \n",
            "\n",
            "GE\n",
            "Citi Group\n",
            "\n",
            "Sentiment: **Title:** No company mentioned\n",
            "\n",
            "**Comments:**\n",
            "1. **GE** - General Electric (Ticker: GE) - Neutral sentiment\n",
            "2. **Citi Group** - Citigroup (Ticker: C) - Neutral sentiment\n",
            "------------------------------\n",
            "Title: Dating Apps, A Deep Dive - Intelligent Investor\n",
            "\n",
            "Comments: \n",
            "\n",
            "I would never invest in dating apps. The business model is absolutely dog shit. For many people in the world the reason to get a dating app is to never need a dating app ever again. Many are looking for a partner. So either the dating app is designed to help you, which is counter productive for the network and monetisation. Or they trying their best to keep you in their network, which is counter productive for the user, which leads to user leaving and looking somewhere else.\n",
            "\n",
            "These businesses are only designed to make the C-Suite rich, not investors. \n",
            "\n",
            "My 2 cents.\n",
            "The only people getting f*cked are the shareholders\n",
            "\n",
            "Sentiment: Title: Dating Apps, A Deep Dive - Intelligent Investor\n",
            "\n",
            "Comments: \n",
            "\n",
            "No company mentioned\n",
            "\n",
            "Sentiment: Negative\n",
            "------------------------------\n"
          ]
        }
      ],
      "source": [
        "for key, title_and_comments in titles_and_comments.items():\n",
        "\n",
        "    prompt = create_prompt(title_and_comments)\n",
        "\n",
        "    response = client.chat.completions.create(model=\"gpt-3.5-turbo\",\n",
        "                                                messages=[\n",
        "                                                    {\"role\": \"system\", \"content\": system_prompt},\n",
        "                                                    {\"role\": \"user\", \"content\": prompt},\n",
        "                                                ],\n",
        "                                                temperature=0,\n",
        "                                                top_p=1.0,\n",
        "                                                frequency_penalty=0.0,\n",
        "                                                presence_penalty=0.0)\n",
        "    print(title_and_comments)\n",
        "    print(\"Sentiment: \" + response.choices[0].message.content)\n",
        "    print(\"-\"*30)"
      ]
    },
    {
      "cell_type": "code",
      "execution_count": null,
      "id": "ef437b9b",
      "metadata": {
        "id": "ef437b9b"
      },
      "outputs": [],
      "source": []
    }
  ],
  "metadata": {
    "kernelspec": {
      "display_name": "Python 3 (ipykernel)",
      "language": "python",
      "name": "python3"
    },
    "language_info": {
      "codemirror_mode": {
        "name": "ipython",
        "version": 3
      },
      "file_extension": ".py",
      "mimetype": "text/x-python",
      "name": "python",
      "nbconvert_exporter": "python",
      "pygments_lexer": "ipython3",
      "version": "3.9.0"
    },
    "colab": {
      "provenance": [],
      "include_colab_link": true
    }
  },
  "nbformat": 4,
  "nbformat_minor": 5
}